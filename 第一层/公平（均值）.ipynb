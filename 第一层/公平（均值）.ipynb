{
 "cells": [
  {
   "cell_type": "code",
   "execution_count": 4,
   "id": "709163b1-a951-44fb-945b-91330818b3b9",
   "metadata": {},
   "outputs": [
    {
     "data": {
      "text/plain": [
       "{'统计量t值': 3.5303623716614068,\n",
       " 'p值': 0.0004172996376601613,\n",
       " '分析结果': '拒绝原假设，城市和农村人口在社会公平程度评估上的均值存在显著性差异'}"
      ]
     },
     "execution_count": 4,
     "metadata": {},
     "output_type": "execute_result"
    }
   ],
   "source": [
    "import pandas as pd\n",
    "from scipy.stats import ttest_ind\n",
    "\n",
    "df=pd.read_csv('A35.csv')\n",
    "\n",
    "mapping={\n",
    "    '完全公平':10,\n",
    "    '比较公平':5,\n",
    "    '说不上公平但也不能说不公平':0,\n",
    "    '比较不公平':-5,\n",
    "    '完全不公平':-10\n",
    "}\n",
    "\n",
    "df['A35']=pd.to_numeric(df['A35'].map(mapping),errors='coerce')\n",
    "\n",
    "df=df.dropna(subset=['A35'])\n",
    "\n",
    "grouped_data=df.groupby('isurban')['A35'].agg(list)\n",
    "\n",
    "t_stat,p_value=ttest_ind(grouped_data['村委会'],grouped_data['居委会'])\n",
    "\n",
    "alpha=0.05\n",
    "\n",
    "if p_value<alpha:\n",
    "    result='拒绝原假设，城市和农村人口在社会公平程度评估上的均值存在显著性差异'\n",
    "else:\n",
    "    result='不能拒绝原假设，城市和农村人口在社会公平程度评估上的均值不存在显著性差异'\n",
    "\n",
    "{'统计量t值':t_stat,'p值':p_value,'分析结果':result}"
   ]
  },
  {
   "cell_type": "code",
   "execution_count": null,
   "id": "2d1a3afd-91c9-4651-9697-bdfbade0a1dc",
   "metadata": {},
   "outputs": [],
   "source": []
  }
 ],
 "metadata": {
  "kernelspec": {
   "display_name": "Python 3 (ipykernel)",
   "language": "python",
   "name": "python3"
  },
  "language_info": {
   "codemirror_mode": {
    "name": "ipython",
    "version": 3
   },
   "file_extension": ".py",
   "mimetype": "text/x-python",
   "name": "python",
   "nbconvert_exporter": "python",
   "pygments_lexer": "ipython3",
   "version": "3.12.7"
  }
 },
 "nbformat": 4,
 "nbformat_minor": 5
}
