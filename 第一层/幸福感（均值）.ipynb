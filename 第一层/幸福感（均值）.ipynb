{
 "cells": [
  {
   "cell_type": "code",
   "execution_count": 3,
   "id": "8c2d6462-51fe-4de7-bf32-03dc7cb1273c",
   "metadata": {},
   "outputs": [
    {
     "data": {
      "text/plain": [
       "{'t统计量': -3.1581434243337987,\n",
       " 'p_value': 0.0016056938171904347,\n",
       " '分析结果': '拒绝原假设，城市和农村人口在幸福感上的均值存在显著性差异'}"
      ]
     },
     "execution_count": 3,
     "metadata": {},
     "output_type": "execute_result"
    }
   ],
   "source": [
    "import pandas as pd\n",
    "data=pd.read_csv('D36.csv')\n",
    "\n",
    "from scipy.stats import ttest_ind\n",
    "\n",
    "data['D36_convert']=pd.to_numeric(data['D36'],errors='coerce')\n",
    "\n",
    "data=data.dropna(subset=['D36_convert'])\n",
    "\n",
    "grouped_data=data.groupby('isurban')['D36_convert'].agg(list)\n",
    "\n",
    "t_stat,p_value=ttest_ind(grouped_data['村委会'],grouped_data['居委会'])\n",
    "\n",
    "alpha=0.05\n",
    "if p_value<alpha:\n",
    "    result='拒绝原假设，城市和农村人口在幸福感上的均值存在显著性差异'\n",
    "else:\n",
    "    result='不能拒绝原假设，城市和农村人口在幸福感上的均值不存在显著性差异'\n",
    "\n",
    "{'t统计量':t_stat,'p_value':p_value,'分析结果':result}"
   ]
  },
  {
   "cell_type": "code",
   "execution_count": null,
   "id": "96fe535a-9f22-4c06-8c54-ad26df255554",
   "metadata": {},
   "outputs": [],
   "source": []
  }
 ],
 "metadata": {
  "kernelspec": {
   "display_name": "Python 3 (ipykernel)",
   "language": "python",
   "name": "python3"
  },
  "language_info": {
   "codemirror_mode": {
    "name": "ipython",
    "version": 3
   },
   "file_extension": ".py",
   "mimetype": "text/x-python",
   "name": "python",
   "nbconvert_exporter": "python",
   "pygments_lexer": "ipython3",
   "version": "3.12.7"
  }
 },
 "nbformat": 4,
 "nbformat_minor": 5
}
