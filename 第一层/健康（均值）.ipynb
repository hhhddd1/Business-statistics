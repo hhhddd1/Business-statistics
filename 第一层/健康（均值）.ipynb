{
 "cells": [
  {
   "cell_type": "code",
   "execution_count": 2,
   "id": "33a223ef-2cd9-4d48-81af-96e2c7b7a4ed",
   "metadata": {},
   "outputs": [
    {
     "data": {
      "text/plain": [
       "{'t统计量': -12.609168785990672,\n",
       " 'p值': 4.084182078776146e-36,\n",
       " '分析结果': '拒绝原假设，城市和农村人口在健康状况自我评估上的均值存在显著性差异'}"
      ]
     },
     "execution_count": 2,
     "metadata": {},
     "output_type": "execute_result"
    }
   ],
   "source": [
    "import pandas as pd\n",
    "from scipy.stats import ttest_ind\n",
    "\n",
    "data=pd.read_csv('A15.csv')\n",
    "\n",
    "mapping={\n",
    "    '很健康':10,\n",
    "    '比较健康':5,\n",
    "    '一般':0,\n",
    "    '比较不健康':-5,\n",
    "    '很不健康':-10\n",
    "}\n",
    "\n",
    "data['A15']=data['A15'].map(mapping)\n",
    "\n",
    "data=data.dropna(subset=['A15'])\n",
    "\n",
    "grouped_data=data.groupby('isurban')['A15'].agg(list)\n",
    "\n",
    "t_stat,p_value=ttest_ind(grouped_data['村委会'],grouped_data['居委会'])\n",
    "\n",
    "alpha=0.05\n",
    "if p_value<alpha:\n",
    "    result='拒绝原假设，城市和农村人口在健康状况自我评估上的均值存在显著性差异'\n",
    "else:\n",
    "    result='不能拒绝原假设，城市和农村人口在健康状况自我评估上的均值不存在显著性差异'\n",
    "\n",
    "{'t统计量':t_stat,'p值':p_value,'分析结果':result}"
   ]
  },
  {
   "cell_type": "code",
   "execution_count": null,
   "id": "a3478933-d693-401a-8b73-1f9ff26a45fd",
   "metadata": {},
   "outputs": [],
   "source": []
  }
 ],
 "metadata": {
  "kernelspec": {
   "display_name": "Python 3 (ipykernel)",
   "language": "python",
   "name": "python3"
  },
  "language_info": {
   "codemirror_mode": {
    "name": "ipython",
    "version": 3
   },
   "file_extension": ".py",
   "mimetype": "text/x-python",
   "name": "python",
   "nbconvert_exporter": "python",
   "pygments_lexer": "ipython3",
   "version": "3.12.7"
  }
 },
 "nbformat": 4,
 "nbformat_minor": 5
}
