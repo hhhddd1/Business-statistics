{
 "cells": [
  {
   "cell_type": "code",
   "execution_count": 9,
   "id": "68a29920-b741-4bc6-916b-0efbf8c5e7c3",
   "metadata": {},
   "outputs": [
    {
     "data": {
      "text/plain": [
       "{'F统计量': 9.973869888662833,\n",
       " 'P值': 0.0016056938171910276,\n",
       " '分析结果': '拒绝原假设，城市与农村人口在幸福感上的方差存在显著性差异'}"
      ]
     },
     "execution_count": 9,
     "metadata": {},
     "output_type": "execute_result"
    }
   ],
   "source": [
    "import pandas as pd\n",
    "from scipy.stats import f_oneway\n",
    "\n",
    "data=pd.read_csv('D36.csv')\n",
    "\n",
    "data['D36']=pd.to_numeric(data['D36'],errors='coerce')\n",
    "\n",
    "data_filtered=data.dropna(subset=['D36'])\n",
    "\n",
    "grouped_data=data_filtered.groupby('isurban')['D36'].agg(list)\n",
    "\n",
    "f_statistic,p_value=f_oneway(*grouped_data)\n",
    "\n",
    "alpha=0.5\n",
    "\n",
    "if p_value<alpha:\n",
    "    result='拒绝原假设，城市与农村人口在幸福感上的方差存在显著性差异'\n",
    "else:\n",
    "    result='不能拒绝原假设，城市与农村人口在幸福感上的方差不存在显著性差异'\n",
    "\n",
    "{'F统计量':f_statistic,'P值':p_value,'分析结果':result}"
   ]
  },
  {
   "cell_type": "code",
   "execution_count": null,
   "id": "736ea23e-4db2-49f0-9f6d-f562f67f5db6",
   "metadata": {},
   "outputs": [],
   "source": []
  }
 ],
 "metadata": {
  "kernelspec": {
   "display_name": "Python 3 (ipykernel)",
   "language": "python",
   "name": "python3"
  },
  "language_info": {
   "codemirror_mode": {
    "name": "ipython",
    "version": 3
   },
   "file_extension": ".py",
   "mimetype": "text/x-python",
   "name": "python",
   "nbconvert_exporter": "python",
   "pygments_lexer": "ipython3",
   "version": "3.12.7"
  }
 },
 "nbformat": 4,
 "nbformat_minor": 5
}
