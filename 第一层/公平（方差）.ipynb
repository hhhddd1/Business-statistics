{
 "cells": [
  {
   "cell_type": "code",
   "execution_count": 2,
   "id": "dad2f2e5-0093-4950-80dd-024515037147",
   "metadata": {},
   "outputs": [
    {
     "data": {
      "text/plain": [
       "{'F统计量': 12.463458475242755,\n",
       " 'P值': 0.0004172996376589846,\n",
       " '分析结果': '拒绝原假设，城市和农村人口在社会公平程度评估上的方差存在显著性差异'}"
      ]
     },
     "execution_count": 2,
     "metadata": {},
     "output_type": "execute_result"
    }
   ],
   "source": [
    "import pandas as pd\n",
    "from scipy.stats import f_oneway\n",
    "\n",
    "df=pd.read_csv('A35.csv')\n",
    "\n",
    "mapping={\n",
    "    '完全公平':10,\n",
    "    '比较公平':5,\n",
    "    '说不上公平但也不能说不公平':0,\n",
    "    '比较不公平':-5,\n",
    "    '完全不公平':-10\n",
    "}\n",
    "\n",
    "df['A35']=df['A35'].map(mapping)\n",
    "\n",
    "df=df.dropna(subset=['A35'])\n",
    "\n",
    "grouped_data=df.groupby('isurban')['A35'].agg(list)\n",
    "\n",
    "f_statistic,p_value=f_oneway(grouped_data['村委会'],grouped_data['居委会'])\n",
    "\n",
    "alpha=0.05\n",
    "\n",
    "if p_value<alpha:\n",
    "    result='拒绝原假设，城市和农村人口在社会公平程度评估上的方差存在显著性差异'\n",
    "else:\n",
    "    result='不能拒绝原假设，城市和农村人口在社会公平程度评估上的方差不存在显著性差异'\n",
    "\n",
    "{'F统计量':f_statistic,'P值':p_value,'分析结果':result}"
   ]
  },
  {
   "cell_type": "code",
   "execution_count": null,
   "id": "5dc5d1bd-a9e0-45da-8abe-579b4203c411",
   "metadata": {},
   "outputs": [],
   "source": []
  }
 ],
 "metadata": {
  "kernelspec": {
   "display_name": "Python 3 (ipykernel)",
   "language": "python",
   "name": "python3"
  },
  "language_info": {
   "codemirror_mode": {
    "name": "ipython",
    "version": 3
   },
   "file_extension": ".py",
   "mimetype": "text/x-python",
   "name": "python",
   "nbconvert_exporter": "python",
   "pygments_lexer": "ipython3",
   "version": "3.12.7"
  }
 },
 "nbformat": 4,
 "nbformat_minor": 5
}
