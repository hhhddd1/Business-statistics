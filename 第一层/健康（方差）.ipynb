{
 "cells": [
  {
   "cell_type": "code",
   "execution_count": 9,
   "id": "b1a0073d-f065-40fa-a829-3178cd32ef2f",
   "metadata": {},
   "outputs": [
    {
     "data": {
      "text/plain": [
       "{'统计量F值': 158.99113747360147,\n",
       " 'p值': 4.0841820787473236e-36,\n",
       " '分析结果': '拒绝原假设，城市和农村人口在健康状况自我评估上的方差存在显著性差异'}"
      ]
     },
     "execution_count": 9,
     "metadata": {},
     "output_type": "execute_result"
    }
   ],
   "source": [
    "import pandas as pd\n",
    "from scipy.stats import f_oneway\n",
    "\n",
    "data=pd.read_csv('A15.csv')\n",
    "mapping={\n",
    "    '很健康':10,\n",
    "    '比较健康':5,\n",
    "    '一般':0,\n",
    "    '比较不健康':-5,\n",
    "    '很不健康':-10\n",
    "}\n",
    "\n",
    "data['A15']=data['A15'].map(mapping)\n",
    "\n",
    "data=data.dropna(subset=['A15'])\n",
    "\n",
    "grouped_data=data.groupby('isurban')['A15'].agg(list)\n",
    "\n",
    "f_value,p_value=f_oneway(grouped_data['村委会'],grouped_data['居委会'])\n",
    "\n",
    "alpha=0.05\n",
    "\n",
    "if p_value<alpha:\n",
    "    result='拒绝原假设，城市和农村人口在健康状况自我评估上的方差存在显著性差异'\n",
    "else:\n",
    "    result='不能拒绝原假设，城市和农村人口在健康状况自我评估上的方差不存在显著性差异'\n",
    "\n",
    "{'统计量F值':f_value,'p值':p_value,'分析结果':result}"
   ]
  },
  {
   "cell_type": "code",
   "execution_count": null,
   "id": "87ef1d90-dc5c-4426-8259-2b0bc9dab335",
   "metadata": {},
   "outputs": [],
   "source": []
  }
 ],
 "metadata": {
  "kernelspec": {
   "display_name": "Python 3 (ipykernel)",
   "language": "python",
   "name": "python3"
  },
  "language_info": {
   "codemirror_mode": {
    "name": "ipython",
    "version": 3
   },
   "file_extension": ".py",
   "mimetype": "text/x-python",
   "name": "python",
   "nbconvert_exporter": "python",
   "pygments_lexer": "ipython3",
   "version": "3.12.7"
  }
 },
 "nbformat": 4,
 "nbformat_minor": 5
}
