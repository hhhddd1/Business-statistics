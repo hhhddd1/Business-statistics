{
 "cells": [
  {
   "cell_type": "code",
   "execution_count": 2,
   "id": "abeda696-1c87-48a3-bec1-511deaee296c",
   "metadata": {},
   "outputs": [
    {
     "name": "stdout",
     "output_type": "stream",
     "text": [
      "对社会公平程度的看法与全年家庭总收入之间存在显著相关性\n",
      "                            OLS Regression Results                            \n",
      "==============================================================================\n",
      "Dep. Variable:                    A35   R-squared:                       0.001\n",
      "Model:                            OLS   Adj. R-squared:                  0.001\n",
      "Method:                 Least Squares   F-statistic:                     9.147\n",
      "Date:                Tue, 24 Dec 2024   Prob (F-statistic):            0.00250\n",
      "Time:                        14:45:50   Log-Likelihood:                -28523.\n",
      "No. Observations:                8148   AIC:                         5.705e+04\n",
      "Df Residuals:                    8146   BIC:                         5.706e+04\n",
      "Df Model:                           1                                         \n",
      "Covariance Type:            nonrobust                                         \n",
      "==============================================================================\n",
      "                 coef    std err          t      P>|t|      [0.025      0.975]\n",
      "------------------------------------------------------------------------------\n",
      "const          3.9852      0.101     39.388      0.000       3.787       4.184\n",
      "A62         6.607e-08   2.18e-08      3.024      0.002    2.32e-08    1.09e-07\n",
      "==============================================================================\n",
      "Omnibus:                    13477.687   Durbin-Watson:                   1.976\n",
      "Prob(Omnibus):                  0.000   Jarque-Bera (JB):          6021240.349\n",
      "Skew:                          11.446   Prob(JB):                         0.00\n",
      "Kurtosis:                     134.193   Cond. No.                     5.27e+06\n",
      "==============================================================================\n",
      "\n",
      "Notes:\n",
      "[1] Standard Errors assume that the covariance matrix of the errors is correctly specified.\n",
      "[2] The condition number is large, 5.27e+06. This might indicate that there are\n",
      "strong multicollinearity or other numerical problems.\n"
     ]
    }
   ],
   "source": [
    "import pandas as pd\n",
    "from scipy.stats import chi2_contingency\n",
    "import statsmodels.api as sm\n",
    "\n",
    "df=pd.read_csv('CGSS2021.csv')\n",
    "\n",
    "\n",
    "\n",
    "df=df[pd.to_numeric(df['A35'],errors='coerce').notnull()]\n",
    "df=df[pd.to_numeric(df['A62'],errors='coerce').notnull()]\n",
    "\n",
    "\n",
    "\n",
    "contingency_table=pd.crosstab(df['A35'],df['A62'])\n",
    "\n",
    "chi2,p,_,_=chi2_contingency(contingency_table)\n",
    "\n",
    "alpha=0.05\n",
    "if p<alpha:\n",
    "    print('对社会公平程度的看法与全年家庭总收入之间存在显著相关性')\n",
    "\n",
    "    X=df['A62'].astype(float)\n",
    "    y=df['A35'].astype(float)\n",
    "\n",
    "    X=sm.add_constant(X)\n",
    "\n",
    "    model=sm.OLS(y,X).fit()\n",
    "\n",
    "    print(model.summary())\n",
    "else:\n",
    "    print('对社会公平程度的看法与全年家庭总收入之间不存在显著相关性，无需进行回归分析')"
   ]
  },
  {
   "cell_type": "code",
   "execution_count": null,
   "id": "d4c9cc97-c043-4f23-92ae-5509a26a5899",
   "metadata": {},
   "outputs": [],
   "source": []
  }
 ],
 "metadata": {
  "kernelspec": {
   "display_name": "Python 3 (ipykernel)",
   "language": "python",
   "name": "python3"
  },
  "language_info": {
   "codemirror_mode": {
    "name": "ipython",
    "version": 3
   },
   "file_extension": ".py",
   "mimetype": "text/x-python",
   "name": "python",
   "nbconvert_exporter": "python",
   "pygments_lexer": "ipython3",
   "version": "3.12.7"
  }
 },
 "nbformat": 4,
 "nbformat_minor": 5
}
