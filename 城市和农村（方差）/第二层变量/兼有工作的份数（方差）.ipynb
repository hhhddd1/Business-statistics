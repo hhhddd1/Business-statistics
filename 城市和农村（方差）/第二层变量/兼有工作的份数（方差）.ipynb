{
 "cells": [
  {
   "cell_type": "code",
   "execution_count": 50,
   "id": "f16a59f0-b0ed-49c7-97f0-e484586c3300",
   "metadata": {},
   "outputs": [
    {
     "name": "stdout",
     "output_type": "stream",
     "text": [
      "统计量:0.9460870040514079\n",
      "p值:0.33215852435337734\n",
      "城市和农村人口兼有的工作份数方差没有显著差异\n"
     ]
    }
   ],
   "source": [
    "import pandas as pd\n",
    "from scipy.stats import levene\n",
    "\n",
    "def test_variance_difference(file_path):\n",
    "    try:\n",
    "        data=pd.read_csv(file_path)\n",
    "        data=data.dropna(subset=['isurban'])\n",
    "        data['A58aa']=pd.to_numeric(data['A58aa'],errors='coerce')\n",
    "        data=data.dropna(subset=['A58aa'])\n",
    "        group1=data[data['isurban']==1]['A58aa']\n",
    "        group2=data[data['isurban']==2]['A58aa']\n",
    "        statistic,p_value=levene(group1,group2)\n",
    "        alpha=0.05\n",
    "        print(f\"统计量:{statistic}\")\n",
    "        print(f\"p值:{p_value}\")\n",
    "        if p_value<alpha:\n",
    "            print(\"城市和农村人口兼有的工作份数方差有显著差异\")\n",
    "        else:\n",
    "            print(\"城市和农村人口兼有的工作份数方差没有显著差异\")\n",
    "\n",
    "    except FileNotFoundError:\n",
    "        print(f\"文件未找到:{file_path}\")\n",
    "    except Exception as e:\n",
    "        print(f\"发生错误:{e}\")\n",
    "\n",
    "file_path='CGSS2021.csv'\n",
    "test_variance_difference(file_path)\n",
    "                  "
   ]
  },
  {
   "cell_type": "code",
   "execution_count": null,
   "id": "85f6414e-6ca8-4cf3-a130-80c5a3d6356c",
   "metadata": {},
   "outputs": [],
   "source": []
  }
 ],
 "metadata": {
  "kernelspec": {
   "display_name": "Python 3 (ipykernel)",
   "language": "python",
   "name": "python3"
  },
  "language_info": {
   "codemirror_mode": {
    "name": "ipython",
    "version": 3
   },
   "file_extension": ".py",
   "mimetype": "text/x-python",
   "name": "python",
   "nbconvert_exporter": "python",
   "pygments_lexer": "ipython3",
   "version": "3.12.7"
  }
 },
 "nbformat": 4,
 "nbformat_minor": 5
}
