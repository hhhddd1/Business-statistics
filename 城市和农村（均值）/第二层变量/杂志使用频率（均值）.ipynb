{
 "cells": [
  {
   "cell_type": "code",
   "execution_count": 34,
   "id": "96357d75-fc0b-4061-bd1b-0fe34c20f3f9",
   "metadata": {},
   "outputs": [
    {
     "name": "stdout",
     "output_type": "stream",
     "text": [
      "t统计量:5.7450176820017145\n",
      "p值:9.521750926594708e-09\n",
      "农村和城市人口杂志使用频率均值有显著差异\n"
     ]
    }
   ],
   "source": [
    "import pandas as pd\n",
    "from scipy.stats import ttest_ind\n",
    "\n",
    "def test_mean_difference(file_path):\n",
    "    try:\n",
    "        data=pd.read_csv(file_path)\n",
    "        data=data.dropna(subset=['isurban'])\n",
    "        data['A28_2']=pd.to_numeric(data['A28_2'],errors='coerce')\n",
    "        data=data.dropna(subset=['A28_2'])\n",
    "        group1=data[data['isurban']==1]['A28_2']\n",
    "        group2=data[data['isurban']==2]['A28_2']\n",
    "        t_stat,p_value=ttest_ind(group1,group2)\n",
    "        alpha=0.05\n",
    "        print(f\"t统计量:{t_stat}\")\n",
    "        print(f\"p值:{p_value}\")\n",
    "        if p_value<alpha:\n",
    "            print(\"农村和城市人口杂志使用频率均值有显著差异\")\n",
    "        else:\n",
    "            print(\"农村和城市人口杂志使用频率均值没有显著差异\")\n",
    "\n",
    "    except FileNotFoundError:\n",
    "        print(f\"文件未找到:{file_path}\")\n",
    "    except Exception as e:\n",
    "        print(f\"发生错误:{e}\")\n",
    "\n",
    "file_path='CGSS2021.csv'\n",
    "test_mean_difference(file_path)"
   ]
  },
  {
   "cell_type": "code",
   "execution_count": null,
   "id": "db97cb54-1bf1-40ff-8d1d-62da372faff3",
   "metadata": {},
   "outputs": [],
   "source": []
  }
 ],
 "metadata": {
  "kernelspec": {
   "display_name": "Python 3 (ipykernel)",
   "language": "python",
   "name": "python3"
  },
  "language_info": {
   "codemirror_mode": {
    "name": "ipython",
    "version": 3
   },
   "file_extension": ".py",
   "mimetype": "text/x-python",
   "name": "python",
   "nbconvert_exporter": "python",
   "pygments_lexer": "ipython3",
   "version": "3.12.7"
  }
 },
 "nbformat": 4,
 "nbformat_minor": 5
}
