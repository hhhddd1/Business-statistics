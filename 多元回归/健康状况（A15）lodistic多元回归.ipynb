{
 "cells": [
  {
   "cell_type": "code",
   "execution_count": 23,
   "id": "a4f32c51-455f-4cd2-9df0-623897d097b8",
   "metadata": {},
   "outputs": [
    {
     "name": "stdout",
     "output_type": "stream",
     "text": [
      "Optimization terminated successfully.\n",
      "         Current function value: 0.036521\n",
      "         Iterations 8\n",
      "                           Logit Regression Results                           \n",
      "==============================================================================\n",
      "Dep. Variable:                    A15   No. Observations:                  140\n",
      "Model:                          Logit   Df Residuals:                      118\n",
      "Method:                           MLE   Df Model:                           21\n",
      "Date:                Tue, 24 Dec 2024   Pseudo R-squ.:                     inf\n",
      "Time:                        23:22:05   Log-Likelihood:                -5.1129\n",
      "converged:                       True   LL-Null:                        0.0000\n",
      "Covariance Type:            nonrobust   LLR p-value:                     1.000\n",
      "==============================================================================\n",
      "                 coef    std err          z      P>|z|      [0.025      0.975]\n",
      "------------------------------------------------------------------------------\n",
      "const         -3.6243     12.978     -0.279      0.780     -29.060      21.812\n",
      "A7a           -0.0025      0.197     -0.013      0.990      -0.389       0.384\n",
      "A7b            0.0209      0.877      0.024      0.981      -1.698       1.740\n",
      "D9             0.0007      0.050      0.015      0.988      -0.097       0.099\n",
      "A62         1.072e-09   1.57e-07      0.007      0.995   -3.06e-07    3.08e-07\n",
      "A10           -0.0059      0.507     -0.012      0.991      -1.000       0.988\n",
      "A13           -0.0008      0.087     -0.009      0.993      -0.171       0.169\n",
      "A14            0.0006      0.030      0.020      0.984      -0.059       0.060\n",
      "A28_1          0.0383      0.748      0.051      0.959      -1.429       1.505\n",
      "A28_2          0.0055      0.777      0.007      0.994      -1.518       1.529\n",
      "A28_3          0.0173      0.553      0.031      0.975      -1.067       1.102\n",
      "A28_4         -0.0108      0.459     -0.024      0.981      -0.910       0.888\n",
      "A28_5          0.0570      0.526      0.108      0.914      -0.974       1.088\n",
      "A28_6          0.0029      0.446      0.006      0.995      -0.871       0.877\n",
      "A31_1          0.0390      0.553      0.071      0.944      -1.045       1.123\n",
      "A31_2         -0.0639      0.644     -0.099      0.921      -1.327       1.199\n",
      "A58a          -0.1487      2.853     -0.052      0.958      -5.741       5.444\n",
      "L8a            0.0001      0.001      0.068      0.945      -0.003       0.003\n",
      "A65           -0.0016      0.050     -0.033      0.974      -0.100       0.097\n",
      "A66           -0.0763      1.276     -0.060      0.952      -2.577       2.424\n",
      "A68a_1         0.1142      1.147      0.100      0.921      -2.133       2.361\n",
      "A68a_2         0.0902      0.953      0.095      0.925      -1.779       1.959\n",
      "==============================================================================\n",
      "均方误差:9.448353443918896e-05\n",
      "平均绝对误差:0.008404359136719141\n"
     ]
    },
    {
     "name": "stderr",
     "output_type": "stream",
     "text": [
      "/opt/anaconda3/lib/python3.12/site-packages/statsmodels/discrete/discrete_model.py:4469: RuntimeWarning: divide by zero encountered in scalar divide\n",
      "  return 1 - self.llf/self.llnull\n"
     ]
    }
   ],
   "source": [
    "import pandas as pd\n",
    "import statsmodels.api as sm\n",
    "from sklearn.model_selection import train_test_split\n",
    "from sklearn.metrics import mean_squared_error,mean_absolute_error\n",
    "\n",
    "def preprocess_and_build_logistic_regression(file_path,target_column,independent_columns):\n",
    "    try:\n",
    "        data=pd.read_csv(file_path)\n",
    "        data[target_column]=pd.to_numeric(data[target_column],errors='coerce')\n",
    "        data=data.dropna(subset=[target_column])\n",
    "        min_value=data[target_column].min()\n",
    "        max_value=data[target_column].max()\n",
    "        data[target_column]=(data[target_column]-min_value)/(max_value-min_value)\n",
    "        for col in independent_columns:\n",
    "            data[col]=pd.to_numeric(data[col],errors='coerce')\n",
    "            data=data.dropna(subset=[col])\n",
    "\n",
    "\n",
    "        X=data[independent_columns]\n",
    "        y=data[target_column]\n",
    "        X=sm.add_constant(X)\n",
    "        X_train,X_test,y_train,y_test=train_test_split(X,y,test_size=0.2,random_state=42\n",
    "                                                      )\n",
    "        logit_model=sm.Logit(y_train,X_train)\n",
    "        result=logit_model.fit()\n",
    "        print(result.summary())\n",
    "\n",
    "        y_pred_proba=result.predict(X_test)\n",
    "        y_pred=[1 if p>0.5 else 0 for p in y_pred_proba]\n",
    "\n",
    "        mse=mean_squared_error(y_test,y_pred_proba)\n",
    "        mae=mean_absolute_error(y_test,y_pred_proba)\n",
    "        print(f\"均方误差:{mse}\")\n",
    "        print(f\"平均绝对误差:{mae}\")\n",
    "        \n",
    "    except FileNotFoundError:\n",
    "        print(f\"文件未找到:{file_path}\")\n",
    "    except Exception as e:\n",
    "        print(f\"发生错误:{e}\")\n",
    "\n",
    "file_path='CGSS2021.csv'\n",
    "target_column='A15'\n",
    "independent_columns=['A7a','A7b','D9','A62','A10','A13','A14','A28_1','A28_2','A28_3','A28_4',\n",
    "                    'A28_5','A28_6','A31_1','A31_2','A58a','L8a','A65','A66','A68a_1','A68a_2']\n",
    "preprocess_and_build_logistic_regression(file_path,target_column,independent_columns)"
   ]
  },
  {
   "cell_type": "code",
   "execution_count": null,
   "id": "6156c874-ffca-4ac3-af0b-a2343e54822a",
   "metadata": {},
   "outputs": [],
   "source": []
  }
 ],
 "metadata": {
  "kernelspec": {
   "display_name": "Python 3 (ipykernel)",
   "language": "python",
   "name": "python3"
  },
  "language_info": {
   "codemirror_mode": {
    "name": "ipython",
    "version": 3
   },
   "file_extension": ".py",
   "mimetype": "text/x-python",
   "name": "python",
   "nbconvert_exporter": "python",
   "pygments_lexer": "ipython3",
   "version": "3.12.7"
  }
 },
 "nbformat": 4,
 "nbformat_minor": 5
}
