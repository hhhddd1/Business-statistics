{
 "cells": [
  {
   "cell_type": "code",
   "execution_count": 11,
   "id": "c0682207-6695-459e-9fa8-749d04eb7941",
   "metadata": {},
   "outputs": [
    {
     "name": "stdout",
     "output_type": "stream",
     "text": [
      "幸福感与政治面貌之间存在显著相关性\n",
      "                            OLS Regression Results                            \n",
      "==============================================================================\n",
      "Dep. Variable:                    D36   R-squared:                       0.014\n",
      "Model:                            OLS   Adj. R-squared:                  0.014\n",
      "Method:                 Least Squares   F-statistic:                     37.35\n",
      "Date:                Mon, 23 Dec 2024   Prob (F-statistic):           1.13e-09\n",
      "Time:                        21:41:13   Log-Likelihood:                -5529.4\n",
      "No. Observations:                2639   AIC:                         1.106e+04\n",
      "Df Residuals:                    2637   BIC:                         1.107e+04\n",
      "Df Model:                           1                                         \n",
      "Covariance Type:            nonrobust                                         \n",
      "==============================================================================\n",
      "                 coef    std err          t      P>|t|      [0.025      0.975]\n",
      "------------------------------------------------------------------------------\n",
      "const          6.6417      0.042    157.895      0.000       6.559       6.724\n",
      "A10            0.3908      0.064      6.111      0.000       0.265       0.516\n",
      "==============================================================================\n",
      "Omnibus:                      124.574   Durbin-Watson:                   1.946\n",
      "Prob(Omnibus):                  0.000   Jarque-Bera (JB):              155.733\n",
      "Skew:                          -0.485   Prob(JB):                     1.52e-34\n",
      "Kurtosis:                       3.689   Cond. No.                         1.85\n",
      "==============================================================================\n",
      "\n",
      "Notes:\n",
      "[1] Standard Errors assume that the covariance matrix of the errors is correctly specified.\n"
     ]
    }
   ],
   "source": [
    "import pandas as pd\n",
    "from scipy.stats import chi2_contingency\n",
    "import statsmodels.api as sm\n",
    "\n",
    "df=pd.read_csv('D36-A10.csv')\n",
    "\n",
    "a10_mapping={\n",
    "    '群众':0,\n",
    "    '共产党员':1,\n",
    "    '共青团员':2,\n",
    "}\n",
    "\n",
    "df['A10']=df['A10'].map(a10_mapping)\n",
    "df=df[pd.to_numeric(df['D36'],errors='coerce').notnull()]\n",
    "df=df.dropna(subset=['A10'])\n",
    "\n",
    "contingency_table=pd.crosstab(df['D36'],df['A10'])\n",
    "\n",
    "chi2,p,_,_=chi2_contingency(contingency_table)\n",
    "\n",
    "alpha=0.05\n",
    "\n",
    "if p<alpha:\n",
    "    print('幸福感与政治面貌之间存在显著相关性')\n",
    "\n",
    "    X=df['A10'].astype(float)\n",
    "    y=df['D36'].astype(float)\n",
    "\n",
    "    X=sm.add_constant(X)\n",
    "\n",
    "    model=sm.OLS(y,X).fit()\n",
    "\n",
    "    print(model.summary())\n",
    "else:\n",
    "    print('幸福感与政治面貌之间不存在显著相关性，无需进行回归分析')"
   ]
  },
  {
   "cell_type": "code",
   "execution_count": null,
   "id": "52db7140-6c24-4519-a986-bdca10af3780",
   "metadata": {},
   "outputs": [],
   "source": []
  }
 ],
 "metadata": {
  "kernelspec": {
   "display_name": "Python 3 (ipykernel)",
   "language": "python",
   "name": "python3"
  },
  "language_info": {
   "codemirror_mode": {
    "name": "ipython",
    "version": 3
   },
   "file_extension": ".py",
   "mimetype": "text/x-python",
   "name": "python",
   "nbconvert_exporter": "python",
   "pygments_lexer": "ipython3",
   "version": "3.12.7"
  }
 },
 "nbformat": 4,
 "nbformat_minor": 5
}
