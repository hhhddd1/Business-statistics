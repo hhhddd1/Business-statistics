{
 "cells": [
  {
   "cell_type": "code",
   "execution_count": 2,
   "id": "2f91b9be-135b-49ef-a6a6-d68744758a97",
   "metadata": {},
   "outputs": [
    {
     "name": "stdout",
     "output_type": "stream",
     "text": [
      "卡方值:69.25027999417395,p值:0.03698853199494849\n",
      "幸福感与儿子数量之间存在显著相关性\n",
      "                            OLS Regression Results                            \n",
      "==============================================================================\n",
      "Dep. Variable:                    D36   R-squared:                       0.001\n",
      "Model:                            OLS   Adj. R-squared:                  0.001\n",
      "Method:                 Least Squares   F-statistic:                     3.029\n",
      "Date:                Mon, 23 Dec 2024   Prob (F-statistic):             0.0819\n",
      "Time:                        23:06:26   Log-Likelihood:                -5549.2\n",
      "No. Observations:                2640   AIC:                         1.110e+04\n",
      "Df Residuals:                    2638   BIC:                         1.111e+04\n",
      "Df Model:                           1                                         \n",
      "Covariance Type:            nonrobust                                         \n",
      "==============================================================================\n",
      "                 coef    std err          t      P>|t|      [0.025      0.975]\n",
      "------------------------------------------------------------------------------\n",
      "const          6.8259      0.057    118.973      0.000       6.713       6.938\n",
      "A68_1         -0.0830      0.048     -1.740      0.082      -0.176       0.011\n",
      "==============================================================================\n",
      "Omnibus:                      130.212   Durbin-Watson:                   1.949\n",
      "Prob(Omnibus):                  0.000   Jarque-Bera (JB):              160.738\n",
      "Skew:                          -0.506   Prob(JB):                     1.25e-35\n",
      "Kurtosis:                       3.660   Cond. No.                         2.65\n",
      "==============================================================================\n",
      "\n",
      "Notes:\n",
      "[1] Standard Errors assume that the covariance matrix of the errors is correctly specified.\n"
     ]
    }
   ],
   "source": [
    "import pandas as pd\n",
    "from scipy.stats import chi2_contingency\n",
    "import statsmodels.api as sm\n",
    "\n",
    "def perform_analysis(file_path):\n",
    "    try:\n",
    "        data=pd.read_csv(file_path)\n",
    "\n",
    "        def convert_a68_1(value):\n",
    "            if value=='没有':\n",
    "                return 0\n",
    "            try:\n",
    "                return float(value)\n",
    "            except ValueError:\n",
    "                return None\n",
    "\n",
    "        data['A68_1']=data['A68_1'].apply(convert_a68_1)\n",
    "        data=data.dropna(subset=['A68_1'])\n",
    "\n",
    "        data=data[pd.to_numeric(data['D36'],errors='coerce').notnull()]\n",
    "\n",
    "        contingency_table=pd.crosstab(data['D36'],data['A68_1'])\n",
    "        chi2,p,_,_=chi2_contingency(contingency_table)\n",
    "        alpha=0.05\n",
    "        print(f\"卡方值:{chi2},p值:{p}\")\n",
    "        if p<alpha:\n",
    "            print(\"幸福感与儿子数量之间存在显著相关性\")\n",
    "            X=data['A68_1'].astype(float)\n",
    "            y=data['D36'].astype(float)\n",
    "\n",
    "            X=sm.add_constant(X)\n",
    "            model=sm.OLS(y,X).fit()\n",
    "            print(model.summary())\n",
    "        else:\n",
    "            print(\"幸福感与儿子数量之间不存在显著相关性，无需进行回归分析\")\n",
    "\n",
    "    except FileNotFoundError:\n",
    "        print(\"文件未找到\")\n",
    "    except Exception as e:\n",
    "        print(f\"发生错误:{e}\")\n",
    "\n",
    "file_path='D36-A68_1.csv'\n",
    "perform_analysis(file_path)"
   ]
  },
  {
   "cell_type": "code",
   "execution_count": null,
   "id": "bcc9ecce-12cb-4aac-b216-331a2ac2a43c",
   "metadata": {},
   "outputs": [],
   "source": []
  }
 ],
 "metadata": {
  "kernelspec": {
   "display_name": "Python 3 (ipykernel)",
   "language": "python",
   "name": "python3"
  },
  "language_info": {
   "codemirror_mode": {
    "name": "ipython",
    "version": 3
   },
   "file_extension": ".py",
   "mimetype": "text/x-python",
   "name": "python",
   "nbconvert_exporter": "python",
   "pygments_lexer": "ipython3",
   "version": "3.12.7"
  }
 },
 "nbformat": 4,
 "nbformat_minor": 5
}
