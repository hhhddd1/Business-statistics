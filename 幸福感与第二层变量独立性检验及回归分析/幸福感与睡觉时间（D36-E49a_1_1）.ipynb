{
 "cells": [
  {
   "cell_type": "code",
   "execution_count": 9,
   "id": "92e83457-40af-4147-9512-80c6d613811f",
   "metadata": {},
   "outputs": [
    {
     "name": "stdout",
     "output_type": "stream",
     "text": [
      "过滤后的数据为空，无法进行卡方检验和回归分析。\n"
     ]
    }
   ],
   "source": [
    "import pandas as pd\n",
    "from scipy.stats import chi2_contingency\n",
    "import statsmodels.api as sm\n",
    "\n",
    "df=pd.read_csv('D36-E49a_1_1.csv')\n",
    "\n",
    "df=df[pd.to_numeric(df['D36'],errors='coerce').notnull()]\n",
    "\n",
    "df=df[pd.to_numeric(df['E49a_1_1'],errors='coerce').notnull()]\n",
    "\n",
    "if df.empty:\n",
    "    print(\"过滤后的数据为空，无法进行卡方检验和回归分析。\")\n",
    "else:\n",
    "\n",
    "    contingency_table=pd.crosstab(df['D36'],df['E49a_1_1'])\n",
    "\n",
    "    chi2,p,_,_=chi2_contingency(contingency_table)\n",
    "\n",
    "    alpha=0.05\n",
    "\n",
    "    if p<alpha:\n",
    "        print('幸福感与睡觉时间之间存在显著相关性')\n",
    "\n",
    "        X=df['E49a_1_1'].astype(float)\n",
    "        y=df['D36'].astype(float)\n",
    "\n",
    "        X=sm,add_constant(X)\n",
    "\n",
    "        model=sm.OLS(y,X).fit()\n",
    "\n",
    "        print(model.summary())\n",
    "    else:\n",
    "        print('幸福感与睡觉时间之间不存在显著相关性，无需进行回归分析')"
   ]
  },
  {
   "cell_type": "code",
   "execution_count": null,
   "id": "6a023128-9ab6-49cb-b8d0-9bd1c1b2d669",
   "metadata": {},
   "outputs": [],
   "source": []
  }
 ],
 "metadata": {
  "kernelspec": {
   "display_name": "Python 3 (ipykernel)",
   "language": "python",
   "name": "python3"
  },
  "language_info": {
   "codemirror_mode": {
    "name": "ipython",
    "version": 3
   },
   "file_extension": ".py",
   "mimetype": "text/x-python",
   "name": "python",
   "nbconvert_exporter": "python",
   "pygments_lexer": "ipython3",
   "version": "3.12.7"
  }
 },
 "nbformat": 4,
 "nbformat_minor": 5
}
