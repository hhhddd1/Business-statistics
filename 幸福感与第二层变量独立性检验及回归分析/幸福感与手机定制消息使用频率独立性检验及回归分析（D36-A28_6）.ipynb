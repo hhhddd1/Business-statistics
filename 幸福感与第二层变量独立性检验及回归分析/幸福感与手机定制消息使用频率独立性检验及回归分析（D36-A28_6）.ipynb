{
 "cells": [
  {
   "cell_type": "code",
   "execution_count": 27,
   "id": "c0682207-6695-459e-9fa8-749d04eb7941",
   "metadata": {},
   "outputs": [
    {
     "name": "stdout",
     "output_type": "stream",
     "text": [
      "幸福感与手机定制消息使用频率存在显著相关性\n",
      "                            OLS Regression Results                            \n",
      "==============================================================================\n",
      "Dep. Variable:                    D36   R-squared:                       0.005\n",
      "Model:                            OLS   Adj. R-squared:                  0.005\n",
      "Method:                 Least Squares   F-statistic:                     13.25\n",
      "Date:                Mon, 23 Dec 2024   Prob (F-statistic):           0.000278\n",
      "Time:                        21:55:22   Log-Likelihood:                -5535.9\n",
      "No. Observations:                2635   AIC:                         1.108e+04\n",
      "Df Residuals:                    2633   BIC:                         1.109e+04\n",
      "Df Model:                           1                                         \n",
      "Covariance Type:            nonrobust                                         \n",
      "==============================================================================\n",
      "                 coef    std err          t      P>|t|      [0.025      0.975]\n",
      "------------------------------------------------------------------------------\n",
      "const          6.6443      0.048    137.176      0.000       6.549       6.739\n",
      "A28_6          0.1051      0.029      3.640      0.000       0.048       0.162\n",
      "==============================================================================\n",
      "Omnibus:                      127.109   Durbin-Watson:                   1.953\n",
      "Prob(Omnibus):                  0.000   Jarque-Bera (JB):              156.289\n",
      "Skew:                          -0.500   Prob(JB):                     1.15e-34\n",
      "Kurtosis:                       3.650   Cond. No.                         2.45\n",
      "==============================================================================\n",
      "\n",
      "Notes:\n",
      "[1] Standard Errors assume that the covariance matrix of the errors is correctly specified.\n"
     ]
    }
   ],
   "source": [
    "import pandas as pd\n",
    "from scipy.stats import chi2_contingency\n",
    "import statsmodels.api as sm\n",
    "\n",
    "df=pd.read_csv('D36-A28_6.csv')\n",
    "\n",
    "a28_6_mapping={\n",
    "    '从不':0,\n",
    "    '很少':1,\n",
    "    '有时':2,\n",
    "    '经常':3,\n",
    "    '非常频繁':4\n",
    "}\n",
    "\n",
    "df['A28_6']=df['A28_6'].map(a28_6_mapping)\n",
    "df=df[pd.to_numeric(df['D36'],errors='coerce').notnull()]\n",
    "df=df.dropna(subset=['A28_6'])\n",
    "\n",
    "contingency_table=pd.crosstab(df['D36'],df['A28_6'])\n",
    "\n",
    "chi2,p,_,_=chi2_contingency(contingency_table)\n",
    "\n",
    "alpha=0.05\n",
    "\n",
    "if p<alpha:\n",
    "    print('幸福感与手机定制消息使用频率存在显著相关性')\n",
    "\n",
    "    X=df['A28_6'].astype(float)\n",
    "    y=df['D36'].astype(float)\n",
    "\n",
    "    X=sm.add_constant(X)\n",
    "\n",
    "    model=sm.OLS(y,X).fit()\n",
    "\n",
    "    print(model.summary())\n",
    "else:\n",
    "    print('幸福感与手机定制消息使用频率之间不存在显著相关性，无需进行回归分析')"
   ]
  },
  {
   "cell_type": "code",
   "execution_count": null,
   "id": "52db7140-6c24-4519-a986-bdca10af3780",
   "metadata": {},
   "outputs": [],
   "source": []
  }
 ],
 "metadata": {
  "kernelspec": {
   "display_name": "Python 3 (ipykernel)",
   "language": "python",
   "name": "python3"
  },
  "language_info": {
   "codemirror_mode": {
    "name": "ipython",
    "version": 3
   },
   "file_extension": ".py",
   "mimetype": "text/x-python",
   "name": "python",
   "nbconvert_exporter": "python",
   "pygments_lexer": "ipython3",
   "version": "3.12.7"
  }
 },
 "nbformat": 4,
 "nbformat_minor": 5
}
