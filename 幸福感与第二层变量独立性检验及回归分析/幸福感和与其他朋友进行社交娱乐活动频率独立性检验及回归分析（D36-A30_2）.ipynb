{
 "cells": [
  {
   "cell_type": "code",
   "execution_count": 2,
   "id": "c0682207-6695-459e-9fa8-749d04eb7941",
   "metadata": {},
   "outputs": [
    {
     "name": "stdout",
     "output_type": "stream",
     "text": [
      "幸福感和与其他朋友进行社交娱乐活动频率之间存在显著相关性\n",
      "                            OLS Regression Results                            \n",
      "==============================================================================\n",
      "Dep. Variable:                    D36   R-squared:                       0.007\n",
      "Model:                            OLS   Adj. R-squared:                  0.007\n",
      "Method:                 Least Squares   F-statistic:                     19.10\n",
      "Date:                Mon, 23 Dec 2024   Prob (F-statistic):           1.29e-05\n",
      "Time:                        22:06:59   Log-Likelihood:                -5544.0\n",
      "No. Observations:                2641   AIC:                         1.109e+04\n",
      "Df Residuals:                    2639   BIC:                         1.110e+04\n",
      "Df Model:                           1                                         \n",
      "Covariance Type:            nonrobust                                         \n",
      "==============================================================================\n",
      "                 coef    std err          t      P>|t|      [0.025      0.975]\n",
      "------------------------------------------------------------------------------\n",
      "const          6.6283      0.047    139.794      0.000       6.535       6.721\n",
      "A30_2          0.2191      0.050      4.371      0.000       0.121       0.317\n",
      "==============================================================================\n",
      "Omnibus:                      117.758   Durbin-Watson:                   1.943\n",
      "Prob(Omnibus):                  0.000   Jarque-Bera (JB):              143.818\n",
      "Skew:                          -0.476   Prob(JB):                     5.89e-32\n",
      "Kurtosis:                       3.632   Cond. No.                         1.96\n",
      "==============================================================================\n",
      "\n",
      "Notes:\n",
      "[1] Standard Errors assume that the covariance matrix of the errors is correctly specified.\n"
     ]
    }
   ],
   "source": [
    "import pandas as pd\n",
    "from scipy.stats import chi2_contingency\n",
    "import statsmodels.api as sm\n",
    "\n",
    "df=pd.read_csv('D36-A30_2.csv')\n",
    "\n",
    "a30_2_mapping={\n",
    "    '从不':0,\n",
    "    '一年数次或更少':1,\n",
    "    '一月数次':2,\n",
    "    '一周数次':3,\n",
    "    '每天':4\n",
    "}\n",
    "\n",
    "df['A30_2']=df['A30_2'].map(a30_2_mapping)\n",
    "df=df[pd.to_numeric(df['D36'],errors='coerce').notnull()]\n",
    "df=df.dropna(subset=['A30_2'])\n",
    "\n",
    "contingency_table=pd.crosstab(df['D36'],df['A30_2'])\n",
    "\n",
    "chi2,p,_,_=chi2_contingency(contingency_table)\n",
    "\n",
    "alpha=0.05\n",
    "\n",
    "if p<alpha:\n",
    "    print('幸福感和与其他朋友进行社交娱乐活动频率之间存在显著相关性')\n",
    "\n",
    "    X=df['A30_2'].astype(float)\n",
    "    y=df['D36'].astype(float)\n",
    "\n",
    "    X=sm.add_constant(X)\n",
    "\n",
    "    model=sm.OLS(y,X).fit()\n",
    "\n",
    "    print(model.summary())\n",
    "else:\n",
    "    print('幸福感和与其他朋友进行社交娱乐活动频率之间不存在显著相关性，无需进行回归分析')"
   ]
  },
  {
   "cell_type": "code",
   "execution_count": null,
   "id": "52db7140-6c24-4519-a986-bdca10af3780",
   "metadata": {},
   "outputs": [],
   "source": []
  }
 ],
 "metadata": {
  "kernelspec": {
   "display_name": "Python 3 (ipykernel)",
   "language": "python",
   "name": "python3"
  },
  "language_info": {
   "codemirror_mode": {
    "name": "ipython",
    "version": 3
   },
   "file_extension": ".py",
   "mimetype": "text/x-python",
   "name": "python",
   "nbconvert_exporter": "python",
   "pygments_lexer": "ipython3",
   "version": "3.12.7"
  }
 },
 "nbformat": 4,
 "nbformat_minor": 5
}
