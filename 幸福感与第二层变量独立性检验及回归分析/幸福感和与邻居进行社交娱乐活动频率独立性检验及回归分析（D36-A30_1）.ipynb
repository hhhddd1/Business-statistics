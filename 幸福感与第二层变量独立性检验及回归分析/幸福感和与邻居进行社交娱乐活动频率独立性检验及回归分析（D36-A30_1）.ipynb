{
 "cells": [
  {
   "cell_type": "code",
   "execution_count": 31,
   "id": "c0682207-6695-459e-9fa8-749d04eb7941",
   "metadata": {},
   "outputs": [
    {
     "name": "stdout",
     "output_type": "stream",
     "text": [
      "幸福感和与邻居进行社交娱乐活动频率之间存在显著相关性\n",
      "                            OLS Regression Results                            \n",
      "==============================================================================\n",
      "Dep. Variable:                    D36   R-squared:                       0.005\n",
      "Model:                            OLS   Adj. R-squared:                  0.005\n",
      "Method:                 Least Squares   F-statistic:                     13.08\n",
      "Date:                Mon, 23 Dec 2024   Prob (F-statistic):           0.000304\n",
      "Time:                        22:03:18   Log-Likelihood:                -5545.5\n",
      "No. Observations:                2640   AIC:                         1.110e+04\n",
      "Df Residuals:                    2638   BIC:                         1.111e+04\n",
      "Df Model:                           1                                         \n",
      "Covariance Type:            nonrobust                                         \n",
      "==============================================================================\n",
      "                 coef    std err          t      P>|t|      [0.025      0.975]\n",
      "------------------------------------------------------------------------------\n",
      "const          6.4727      0.085     75.772      0.000       6.305       6.640\n",
      "A30_1          0.1007      0.028      3.617      0.000       0.046       0.155\n",
      "==============================================================================\n",
      "Omnibus:                      130.200   Durbin-Watson:                   1.946\n",
      "Prob(Omnibus):                  0.000   Jarque-Bera (JB):              160.061\n",
      "Skew:                          -0.508   Prob(JB):                     1.75e-35\n",
      "Kurtosis:                       3.649   Cond. No.                         7.39\n",
      "==============================================================================\n",
      "\n",
      "Notes:\n",
      "[1] Standard Errors assume that the covariance matrix of the errors is correctly specified.\n"
     ]
    }
   ],
   "source": [
    "import pandas as pd\n",
    "from scipy.stats import chi2_contingency\n",
    "import statsmodels.api as sm\n",
    "\n",
    "df=pd.read_csv('D36-A30_1.csv')\n",
    "\n",
    "a30_1_mapping={\n",
    "    '从不':0,\n",
    "    '一年数次或更少':1,\n",
    "    '一月数次':2,\n",
    "    '一周数次':3,\n",
    "    '每天':4\n",
    "}\n",
    "\n",
    "df['A30_1']=df['A30_1'].map(a30_1_mapping)\n",
    "df=df[pd.to_numeric(df['D36'],errors='coerce').notnull()]\n",
    "df=df.dropna(subset=['A30_1'])\n",
    "\n",
    "contingency_table=pd.crosstab(df['D36'],df['A30_1'])\n",
    "\n",
    "chi2,p,_,_=chi2_contingency(contingency_table)\n",
    "\n",
    "alpha=0.05\n",
    "\n",
    "if p<alpha:\n",
    "    print('幸福感和与邻居进行社交娱乐活动频率之间存在显著相关性')\n",
    "\n",
    "    X=df['A30_1'].astype(float)\n",
    "    y=df['D36'].astype(float)\n",
    "\n",
    "    X=sm.add_constant(X)\n",
    "\n",
    "    model=sm.OLS(y,X).fit()\n",
    "\n",
    "    print(model.summary())\n",
    "else:\n",
    "    print('幸福感和与邻居进行社交娱乐活动频率之间不存在显著相关性，无需进行回归分析')"
   ]
  },
  {
   "cell_type": "code",
   "execution_count": null,
   "id": "52db7140-6c24-4519-a986-bdca10af3780",
   "metadata": {},
   "outputs": [],
   "source": []
  }
 ],
 "metadata": {
  "kernelspec": {
   "display_name": "Python 3 (ipykernel)",
   "language": "python",
   "name": "python3"
  },
  "language_info": {
   "codemirror_mode": {
    "name": "ipython",
    "version": 3
   },
   "file_extension": ".py",
   "mimetype": "text/x-python",
   "name": "python",
   "nbconvert_exporter": "python",
   "pygments_lexer": "ipython3",
   "version": "3.12.7"
  }
 },
 "nbformat": 4,
 "nbformat_minor": 5
}
