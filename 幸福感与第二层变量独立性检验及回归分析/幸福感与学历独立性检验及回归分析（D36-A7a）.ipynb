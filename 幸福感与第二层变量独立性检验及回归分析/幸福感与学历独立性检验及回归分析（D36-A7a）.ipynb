{
 "cells": [
  {
   "cell_type": "code",
   "execution_count": 14,
   "id": "82feff94-6fa6-4862-ae67-df3c76478d01",
   "metadata": {},
   "outputs": [
    {
     "name": "stdout",
     "output_type": "stream",
     "text": [
      "                            OLS Regression Results                            \n",
      "==============================================================================\n",
      "Dep. Variable:                    D36   R-squared:                       0.002\n",
      "Model:                            OLS   Adj. R-squared:                  0.002\n",
      "Method:                 Least Squares   F-statistic:                     13.75\n",
      "Date:                Mon, 23 Dec 2024   Prob (F-statistic):           0.000211\n",
      "Time:                        19:06:59   Log-Likelihood:                -21419.\n",
      "No. Observations:                8148   AIC:                         4.284e+04\n",
      "Df Residuals:                    8146   BIC:                         4.286e+04\n",
      "Df Model:                           1                                         \n",
      "Covariance Type:            nonrobust                                         \n",
      "==============================================================================\n",
      "                 coef    std err          t      P>|t|      [0.025      0.975]\n",
      "------------------------------------------------------------------------------\n",
      "const          2.0323      0.057     35.947      0.000       1.922       2.143\n",
      "A7a            0.0557      0.015      3.708      0.000       0.026       0.085\n",
      "==============================================================================\n",
      "Omnibus:                     1244.653   Durbin-Watson:                   2.043\n",
      "Prob(Omnibus):                  0.000   Jarque-Bera (JB):             1601.470\n",
      "Skew:                           1.050   Prob(JB):                         0.00\n",
      "Kurtosis:                       2.448   Cond. No.                         5.97\n",
      "==============================================================================\n",
      "\n",
      "Notes:\n",
      "[1] Standard Errors assume that the covariance matrix of the errors is correctly specified.\n"
     ]
    }
   ],
   "source": [
    "import pandas as pd\n",
    "from scipy.stats import chi2_contingency\n",
    "import statsmodels.api as sm\n",
    "import numpy as np\n",
    "\n",
    "df=pd.read_csv('D36-A7a.csv')\n",
    "\n",
    "education_mapping={\n",
    "    '研究生及以上':9,\n",
    "    '大学本科（正规高等教育）':8,\n",
    "    '大学本科（成人高等教育）':7,\n",
    "    '大学专科（正规高等教育）':6,\n",
    "    '大学专科（成人高等教育）':5,\n",
    "    '普通高中':4,\n",
    "    '中专':3,\n",
    "    '初中':2,\n",
    "    '小学':1,\n",
    "    '没有受过任何教育':0\n",
    "}\n",
    "\n",
    "df['A7a']=df['A7a'].map(education_mapping)\n",
    "\n",
    "df['D36']=pd.to_numeric(df['D36'],errors='coerce').fillna(0)\n",
    "\n",
    "is_inf=np.isinf(df['A7a']).any()\n",
    "is_nan=np.isnan(df['A7a']).any()\n",
    "\n",
    "if is_inf or is_nan:\n",
    "    df['A7a']=np.nan_to_num(df['A7a'],nan=0,posinf=0,neginf=0)\n",
    "\n",
    "contingency_table=pd.crosstab(df['D36'],df['A7a'])\n",
    "\n",
    "chi2,p,_,_=chi2_contingency(contingency_table)\n",
    "\n",
    "alpha=0.05\n",
    "\n",
    "if p<alpha:\n",
    "    result='拒绝原假设，幸福感和学历之间存在显著相关性'\n",
    "\n",
    "    {'卡方值':chi2,'p值':p,'分析结果':result}\n",
    "    X=df['A7a'].astype(float)\n",
    "    y=df['D36'].astype(float)\n",
    "\n",
    "    X=sm.add_constant(X)\n",
    "\n",
    "    model=sm.OLS(y,X).fit()\n",
    "\n",
    "    print(model.summary())\n",
    "else:\n",
    "    result='不能拒绝原假设，幸福感和学历之间不存在显著相关性,无需进行回归分析'\n",
    "    {'卡方值':chi2,'p值':p,'分析结果':result}"
   ]
  }
 ],
 "metadata": {
  "kernelspec": {
   "display_name": "Python 3 (ipykernel)",
   "language": "python",
   "name": "python3"
  },
  "language_info": {
   "codemirror_mode": {
    "name": "ipython",
    "version": 3
   },
   "file_extension": ".py",
   "mimetype": "text/x-python",
   "name": "python",
   "nbconvert_exporter": "python",
   "pygments_lexer": "ipython3",
   "version": "3.12.7"
  }
 },
 "nbformat": 4,
 "nbformat_minor": 5
}
