{
 "cells": [
  {
   "cell_type": "code",
   "execution_count": 13,
   "id": "c0682207-6695-459e-9fa8-749d04eb7941",
   "metadata": {},
   "outputs": [
    {
     "name": "stdout",
     "output_type": "stream",
     "text": [
      "过滤后数据为空，无法进行卡方检验和后续分析。\n"
     ]
    }
   ],
   "source": [
    "import pandas as pd\n",
    "from scipy.stats import chi2_contingency\n",
    "import statsmodels.api as sm\n",
    "\n",
    "try:\n",
    "    df=pd.read_csv('D36-P16.csv')\n",
    "except FileNotFoundError:\n",
    "    print(\"文件未找到\")\n",
    "else:\n",
    "    e19_mapping={\n",
    "        '从来不':0,\n",
    "        '一年几次':1,\n",
    "        '一月几次':2,\n",
    "        '一周几次':3,\n",
    "        '几乎每天':4\n",
    "    }\n",
    "    df['P16']=df['P16'].map(e19_mapping)\n",
    "    \n",
    "    df=df[pd.to_numeric(df['D36'],errors='coerce').notnull()]\n",
    "    df=df.dropna(subset=['P16'])\n",
    "\n",
    "    contingency_table=pd.crosstab(df['D36'],df['P16'])\n",
    "    if contingency_table.size==0:\n",
    "        print(\"过滤后数据为空，无法进行卡方检验和后续分析。\")\n",
    "    else:\n",
    "    \n",
    "        chi2,p,_,_=chi2_contingency(contingency_table)\n",
    "\n",
    "        alpha=0.05\n",
    "\n",
    "        if p<alpha:\n",
    "            print('幸福感与户外休闲活动频率之间存在显著相关性')\n",
    "\n",
    "            X=df['P16'].astype(float)\n",
    "            y=df['D36'].astype(float)\n",
    "\n",
    "            X=sm.add_constant(X)\n",
    "\n",
    "            model=sm.OLS(y,X).fit()\n",
    "\n",
    "            print(model.summary())\n",
    "        else:\n",
    "            print('幸福感与户外休闲活动频率之间不存在显著相关性，无需进行回归分析')"
   ]
  },
  {
   "cell_type": "markdown",
   "id": "9ffbfb8a-a474-4da7-8134-2b764598acb4",
   "metadata": {},
   "source": []
  }
 ],
 "metadata": {
  "kernelspec": {
   "display_name": "Python 3 (ipykernel)",
   "language": "python",
   "name": "python3"
  },
  "language_info": {
   "codemirror_mode": {
    "name": "ipython",
    "version": 3
   },
   "file_extension": ".py",
   "mimetype": "text/x-python",
   "name": "python",
   "nbconvert_exporter": "python",
   "pygments_lexer": "ipython3",
   "version": "3.12.7"
  }
 },
 "nbformat": 4,
 "nbformat_minor": 5
}
