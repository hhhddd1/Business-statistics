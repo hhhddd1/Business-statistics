{
 "cells": [
  {
   "cell_type": "code",
   "execution_count": 6,
   "id": "abeda696-1c87-48a3-bec1-511deaee296c",
   "metadata": {},
   "outputs": [
    {
     "name": "stdout",
     "output_type": "stream",
     "text": [
      "幸福感与对中医的看法之间存在显著相关性\n",
      "                            OLS Regression Results                            \n",
      "==============================================================================\n",
      "Dep. Variable:                    D36   R-squared:                       0.001\n",
      "Model:                            OLS   Adj. R-squared:                  0.000\n",
      "Method:                 Least Squares   F-statistic:                     1.635\n",
      "Date:                Mon, 23 Dec 2024   Prob (F-statistic):              0.201\n",
      "Time:                        21:04:21   Log-Likelihood:                -5657.4\n",
      "No. Observations:                2605   AIC:                         1.132e+04\n",
      "Df Residuals:                    2603   BIC:                         1.133e+04\n",
      "Df Model:                           1                                         \n",
      "Covariance Type:            nonrobust                                         \n",
      "==============================================================================\n",
      "                 coef    std err          t      P>|t|      [0.025      0.975]\n",
      "------------------------------------------------------------------------------\n",
      "const          6.6650      0.042    160.057      0.000       6.583       6.747\n",
      "D9            -0.0121      0.009     -1.279      0.201      -0.031       0.006\n",
      "==============================================================================\n",
      "Omnibus:                      249.668   Durbin-Watson:                   1.966\n",
      "Prob(Omnibus):                  0.000   Jarque-Bera (JB):              360.874\n",
      "Skew:                          -0.740   Prob(JB):                     4.34e-79\n",
      "Kurtosis:                       4.065   Cond. No.                         4.42\n",
      "==============================================================================\n",
      "\n",
      "Notes:\n",
      "[1] Standard Errors assume that the covariance matrix of the errors is correctly specified.\n"
     ]
    }
   ],
   "source": [
    "import pandas as pd\n",
    "from scipy.stats import chi2_contingency\n",
    "import statsmodels.api as sm\n",
    "\n",
    "df=pd.read_csv('D36-D9.csv')\n",
    "d9_mapping={\n",
    "    '非常同意':10,\n",
    "    '同意':5,\n",
    "    '说不上同意不同意':0,\n",
    "    '不同意':-5,\n",
    "    '非常不同意':-10\n",
    "}\n",
    "df['D9']=df['D9'].map(d9_mapping)\n",
    "\n",
    "\n",
    "\n",
    "df['D36']=pd.to_numeric(df['D36'],errors='coerce').fillna(0)\n",
    "df=df.dropna(subset=['D9'])\n",
    "\n",
    "\n",
    "\n",
    "contingency_table=pd.crosstab(df['D36'],df['D9'])\n",
    "\n",
    "chi2,p,_,_=chi2_contingency(contingency_table)\n",
    "\n",
    "alpha=0.05\n",
    "if p<alpha:\n",
    "    print('幸福感与对中医的看法之间存在显著相关性')\n",
    "\n",
    "    X=df['D9'].astype(float)\n",
    "    y=df['D36'].astype(float)\n",
    "\n",
    "    X=sm.add_constant(X)\n",
    "\n",
    "    model=sm.OLS(y,X).fit()\n",
    "\n",
    "    print(model.summary())\n",
    "else:\n",
    "    print('幸福感与对中医的看法之间不存在显著相关性，无需进行回归分析')"
   ]
  },
  {
   "cell_type": "code",
   "execution_count": null,
   "id": "d25d6f30-d98d-4271-a33b-061f43465d45",
   "metadata": {},
   "outputs": [],
   "source": []
  }
 ],
 "metadata": {
  "kernelspec": {
   "display_name": "Python 3 (ipykernel)",
   "language": "python",
   "name": "python3"
  },
  "language_info": {
   "codemirror_mode": {
    "name": "ipython",
    "version": 3
   },
   "file_extension": ".py",
   "mimetype": "text/x-python",
   "name": "python",
   "nbconvert_exporter": "python",
   "pygments_lexer": "ipython3",
   "version": "3.12.7"
  }
 },
 "nbformat": 4,
 "nbformat_minor": 5
}
