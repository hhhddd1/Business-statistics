{
 "cells": [
  {
   "cell_type": "code",
   "execution_count": 18,
   "id": "c0682207-6695-459e-9fa8-749d04eb7941",
   "metadata": {},
   "outputs": [
    {
     "name": "stdout",
     "output_type": "stream",
     "text": [
      "幸福感与是否同时兼有多份工作之间不存在显著相关性，无需进行回归分析\n"
     ]
    }
   ],
   "source": [
    "import pandas as pd\n",
    "from scipy.stats import chi2_contingency\n",
    "import statsmodels.api as sm\n",
    "\n",
    "df=pd.read_csv('D36-A58a.csv')\n",
    "\n",
    "a58a_mapping={\n",
    "    '没有':0,\n",
    "    '有':1\n",
    "}\n",
    "\n",
    "df['A58a']=df['A58a'].map(a58a_mapping)\n",
    "df=df[pd.to_numeric(df['D36'],errors='coerce').notnull()]\n",
    "df=df.dropna(subset=['A58a'])\n",
    "\n",
    "contingency_table=pd.crosstab(df['D36'],df['A58a'])\n",
    "\n",
    "chi2,p,_,_=chi2_contingency(contingency_table)\n",
    "\n",
    "alpha=0.05\n",
    "\n",
    "if p<alpha:\n",
    "    print('幸福感与是否同时兼有多份工作之间存在显著相关性')\n",
    "\n",
    "    X=df['A58a'].astype(float)\n",
    "    y=df['D36'].astype(float)\n",
    "\n",
    "    X=sm.add_constant(X)\n",
    "\n",
    "    model=sm.OLS(y,X).fit()\n",
    "\n",
    "    print(model.summary())\n",
    "else:\n",
    "    print('幸福感与是否同时兼有多份工作之间不存在显著相关性，无需进行回归分析')"
   ]
  },
  {
   "cell_type": "code",
   "execution_count": null,
   "id": "52db7140-6c24-4519-a986-bdca10af3780",
   "metadata": {},
   "outputs": [],
   "source": []
  }
 ],
 "metadata": {
  "kernelspec": {
   "display_name": "Python 3 (ipykernel)",
   "language": "python",
   "name": "python3"
  },
  "language_info": {
   "codemirror_mode": {
    "name": "ipython",
    "version": 3
   },
   "file_extension": ".py",
   "mimetype": "text/x-python",
   "name": "python",
   "nbconvert_exporter": "python",
   "pygments_lexer": "ipython3",
   "version": "3.12.7"
  }
 },
 "nbformat": 4,
 "nbformat_minor": 5
}
