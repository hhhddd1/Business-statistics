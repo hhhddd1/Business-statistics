{
 "cells": [
  {
   "cell_type": "code",
   "execution_count": 47,
   "id": "abeda696-1c87-48a3-bec1-511deaee296c",
   "metadata": {},
   "outputs": [
    {
     "name": "stdout",
     "output_type": "stream",
     "text": [
      "幸福感与杂志使用频率之间存在显著相关性\n",
      "                            OLS Regression Results                            \n",
      "==============================================================================\n",
      "Dep. Variable:                    D36   R-squared:                       0.000\n",
      "Model:                            OLS   Adj. R-squared:                 -0.000\n",
      "Method:                 Least Squares   F-statistic:                    0.8048\n",
      "Date:                Tue, 24 Dec 2024   Prob (F-statistic):              0.370\n",
      "Time:                        13:38:27   Log-Likelihood:                -10504.\n",
      "No. Observations:                2690   AIC:                         2.101e+04\n",
      "Df Residuals:                    2688   BIC:                         2.102e+04\n",
      "Df Model:                           1                                         \n",
      "Covariance Type:            nonrobust                                         \n",
      "==============================================================================\n",
      "                 coef    std err          t      P>|t|      [0.025      0.975]\n",
      "------------------------------------------------------------------------------\n",
      "const          8.4142      0.258     32.674      0.000       7.909       8.919\n",
      "A28_2         -0.0627      0.070     -0.897      0.370      -0.200       0.074\n",
      "==============================================================================\n",
      "Omnibus:                     3395.541   Durbin-Watson:                   2.033\n",
      "Prob(Omnibus):                  0.000   Jarque-Bera (JB):           308535.244\n",
      "Skew:                           7.136   Prob(JB):                         0.00\n",
      "Kurtosis:                      53.488   Cond. No.                         4.16\n",
      "==============================================================================\n",
      "\n",
      "Notes:\n",
      "[1] Standard Errors assume that the covariance matrix of the errors is correctly specified.\n"
     ]
    }
   ],
   "source": [
    "import pandas as pd\n",
    "from scipy.stats import chi2_contingency\n",
    "import statsmodels.api as sm\n",
    "\n",
    "df=pd.read_csv('CGSS2021.csv')\n",
    "\n",
    "\n",
    "\n",
    "df=df[pd.to_numeric(df['D36'],errors='coerce').notnull()]\n",
    "df=df[pd.to_numeric(df['A28_2'],errors='coerce').notnull()]\n",
    "\n",
    "\n",
    "\n",
    "contingency_table=pd.crosstab(df['D36'],df['A28_2'])\n",
    "\n",
    "chi2,p,_,_=chi2_contingency(contingency_table)\n",
    "\n",
    "alpha=0.05\n",
    "if p<alpha:\n",
    "    print('幸福感与杂志使用频率之间存在显著相关性')\n",
    "\n",
    "    X=df['A28_2'].astype(float)\n",
    "    y=df['D36'].astype(float)\n",
    "\n",
    "    X=sm.add_constant(X)\n",
    "\n",
    "    model=sm.OLS(y,X).fit()\n",
    "\n",
    "    print(model.summary())\n",
    "else:\n",
    "    print('幸福感与杂志使用频率之间不存在显著相关性，无需进行回归分析')"
   ]
  },
  {
   "cell_type": "code",
   "execution_count": null,
   "id": "d4c9cc97-c043-4f23-92ae-5509a26a5899",
   "metadata": {},
   "outputs": [],
   "source": []
  }
 ],
 "metadata": {
  "kernelspec": {
   "display_name": "Python 3 (ipykernel)",
   "language": "python",
   "name": "python3"
  },
  "language_info": {
   "codemirror_mode": {
    "name": "ipython",
    "version": 3
   },
   "file_extension": ".py",
   "mimetype": "text/x-python",
   "name": "python",
   "nbconvert_exporter": "python",
   "pygments_lexer": "ipython3",
   "version": "3.12.7"
  }
 },
 "nbformat": 4,
 "nbformat_minor": 5
}
