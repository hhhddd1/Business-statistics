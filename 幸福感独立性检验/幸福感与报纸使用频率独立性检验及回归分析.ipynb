{
 "cells": [
  {
   "cell_type": "code",
   "execution_count": 45,
   "id": "abeda696-1c87-48a3-bec1-511deaee296c",
   "metadata": {},
   "outputs": [
    {
     "name": "stdout",
     "output_type": "stream",
     "text": [
      "幸福感与报纸使用频率之间存在显著相关性\n",
      "                            OLS Regression Results                            \n",
      "==============================================================================\n",
      "Dep. Variable:                    D36   R-squared:                       0.000\n",
      "Model:                            OLS   Adj. R-squared:                 -0.000\n",
      "Method:                 Least Squares   F-statistic:                   0.04714\n",
      "Date:                Tue, 24 Dec 2024   Prob (F-statistic):              0.828\n",
      "Time:                        13:37:52   Log-Likelihood:                -10505.\n",
      "No. Observations:                2690   AIC:                         2.101e+04\n",
      "Df Residuals:                    2688   BIC:                         2.102e+04\n",
      "Df Model:                           1                                         \n",
      "Covariance Type:            nonrobust                                         \n",
      "==============================================================================\n",
      "                 coef    std err          t      P>|t|      [0.025      0.975]\n",
      "------------------------------------------------------------------------------\n",
      "const          8.3522      0.293     28.543      0.000       7.778       8.926\n",
      "A28_1         -0.0243      0.112     -0.217      0.828      -0.244       0.195\n",
      "==============================================================================\n",
      "Omnibus:                     3396.374   Durbin-Watson:                   2.033\n",
      "Prob(Omnibus):                  0.000   Jarque-Bera (JB):           308871.815\n",
      "Skew:                           7.139   Prob(JB):                         0.00\n",
      "Kurtosis:                      53.516   Cond. No.                         3.49\n",
      "==============================================================================\n",
      "\n",
      "Notes:\n",
      "[1] Standard Errors assume that the covariance matrix of the errors is correctly specified.\n"
     ]
    }
   ],
   "source": [
    "import pandas as pd\n",
    "from scipy.stats import chi2_contingency\n",
    "import statsmodels.api as sm\n",
    "\n",
    "df=pd.read_csv('CGSS2021.csv')\n",
    "\n",
    "\n",
    "\n",
    "df=df[pd.to_numeric(df['D36'],errors='coerce').notnull()]\n",
    "df=df[pd.to_numeric(df['A28_1'],errors='coerce').notnull()]\n",
    "\n",
    "\n",
    "\n",
    "contingency_table=pd.crosstab(df['D36'],df['A28_1'])\n",
    "\n",
    "chi2,p,_,_=chi2_contingency(contingency_table)\n",
    "\n",
    "alpha=0.05\n",
    "if p<alpha:\n",
    "    print('幸福感与报纸使用频率之间存在显著相关性')\n",
    "\n",
    "    X=df['A28_1'].astype(float)\n",
    "    y=df['D36'].astype(float)\n",
    "\n",
    "    X=sm.add_constant(X)\n",
    "\n",
    "    model=sm.OLS(y,X).fit()\n",
    "\n",
    "    print(model.summary())\n",
    "else:\n",
    "    print('幸福感与报纸使用频率之间不存在显著相关性，无需进行回归分析')"
   ]
  },
  {
   "cell_type": "code",
   "execution_count": null,
   "id": "d4c9cc97-c043-4f23-92ae-5509a26a5899",
   "metadata": {},
   "outputs": [],
   "source": []
  }
 ],
 "metadata": {
  "kernelspec": {
   "display_name": "Python 3 (ipykernel)",
   "language": "python",
   "name": "python3"
  },
  "language_info": {
   "codemirror_mode": {
    "name": "ipython",
    "version": 3
   },
   "file_extension": ".py",
   "mimetype": "text/x-python",
   "name": "python",
   "nbconvert_exporter": "python",
   "pygments_lexer": "ipython3",
   "version": "3.12.7"
  }
 },
 "nbformat": 4,
 "nbformat_minor": 5
}
