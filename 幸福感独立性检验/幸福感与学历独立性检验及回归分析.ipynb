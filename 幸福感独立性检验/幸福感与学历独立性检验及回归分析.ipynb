{
 "cells": [
  {
   "cell_type": "code",
   "execution_count": 2,
   "id": "abeda696-1c87-48a3-bec1-511deaee296c",
   "metadata": {},
   "outputs": [
    {
     "name": "stdout",
     "output_type": "stream",
     "text": [
      "幸福感与学历之间存在显著相关性\n",
      "                            OLS Regression Results                            \n",
      "==============================================================================\n",
      "Dep. Variable:                    D36   R-squared:                       0.007\n",
      "Model:                            OLS   Adj. R-squared:                  0.006\n",
      "Method:                 Least Squares   F-statistic:                     17.73\n",
      "Date:                Tue, 24 Dec 2024   Prob (F-statistic):           2.63e-05\n",
      "Time:                        13:30:28   Log-Likelihood:                -10468.\n",
      "No. Observations:                2682   AIC:                         2.094e+04\n",
      "Df Residuals:                    2680   BIC:                         2.095e+04\n",
      "Df Model:                           1                                         \n",
      "Covariance Type:            nonrobust                                         \n",
      "==============================================================================\n",
      "                 coef    std err          t      P>|t|      [0.025      0.975]\n",
      "------------------------------------------------------------------------------\n",
      "const          9.8918      0.440     22.489      0.000       9.029      10.754\n",
      "A7a           -0.2940      0.070     -4.211      0.000      -0.431      -0.157\n",
      "==============================================================================\n",
      "Omnibus:                     3351.033   Durbin-Watson:                   2.032\n",
      "Prob(Omnibus):                  0.000   Jarque-Bera (JB):           293739.507\n",
      "Skew:                           7.018   Prob(JB):                         0.00\n",
      "Kurtosis:                      52.311   Cond. No.                         12.2\n",
      "==============================================================================\n",
      "\n",
      "Notes:\n",
      "[1] Standard Errors assume that the covariance matrix of the errors is correctly specified.\n"
     ]
    }
   ],
   "source": [
    "import pandas as pd\n",
    "from scipy.stats import chi2_contingency\n",
    "import statsmodels.api as sm\n",
    "\n",
    "df=pd.read_csv('CGSS2021.csv')\n",
    "\n",
    "\n",
    "\n",
    "df=df[pd.to_numeric(df['D36'],errors='coerce').notnull()]\n",
    "df=df[pd.to_numeric(df['A7a'],errors='coerce').notnull()]\n",
    "\n",
    "\n",
    "\n",
    "contingency_table=pd.crosstab(df['D36'],df['A7a'])\n",
    "\n",
    "chi2,p,_,_=chi2_contingency(contingency_table)\n",
    "\n",
    "alpha=0.05\n",
    "if p<alpha:\n",
    "    print('幸福感与学历之间存在显著相关性')\n",
    "\n",
    "    X=df['A7a'].astype(float)\n",
    "    y=df['D36'].astype(float)\n",
    "\n",
    "    X=sm.add_constant(X)\n",
    "\n",
    "    model=sm.OLS(y,X).fit()\n",
    "\n",
    "    print(model.summary())\n",
    "else:\n",
    "    print('幸福感与学历之间不存在显著相关性，无需进行回归分析')"
   ]
  },
  {
   "cell_type": "code",
   "execution_count": null,
   "id": "d25d6f30-d98d-4271-a33b-061f43465d45",
   "metadata": {},
   "outputs": [],
   "source": []
  }
 ],
 "metadata": {
  "kernelspec": {
   "display_name": "Python 3 (ipykernel)",
   "language": "python",
   "name": "python3"
  },
  "language_info": {
   "codemirror_mode": {
    "name": "ipython",
    "version": 3
   },
   "file_extension": ".py",
   "mimetype": "text/x-python",
   "name": "python",
   "nbconvert_exporter": "python",
   "pygments_lexer": "ipython3",
   "version": "3.12.7"
  }
 },
 "nbformat": 4,
 "nbformat_minor": 5
}
